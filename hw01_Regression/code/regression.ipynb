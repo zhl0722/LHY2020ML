{
 "cells": [
  {
   "cell_type": "code",
   "execution_count": 1,
   "metadata": {},
   "outputs": [],
   "source": [
    "import numpy as np\n",
    "import pandas as pd\n",
    "import csv"
   ]
  },
  {
   "cell_type": "code",
   "execution_count": 2,
   "metadata": {},
   "outputs": [],
   "source": [
    "def data_process(data):\n",
    "    \"\"\"数据预处理\"\"\"\n",
    "    # 取24个小时的观测值\n",
    "    data = data.iloc[:, 3: ]\n",
    "    # 将空数据填充为0\n",
    "    data = data.replace(['NR'], [0.0])\n",
    "    array = np.array(data, dtype=float)\n",
    "\n",
    "    # x为训练集列表，y为标签列表\n",
    "    x = []\n",
    "    y = []\n",
    "    \n",
    "    for i in range(0, 4320, 18):\n",
    "        # 将连续9个小时的数据作为训练集，第10个小时的数据作为标签，每天有24个小时，因此每天可以划分出15份训练集和标签\n",
    "        for j in range(24-9):\n",
    "            tmp_x = array[i+9, j: j+9]\n",
    "            tmp_y = array[i+9, j+9]\n",
    "            x.append(tmp_x)\n",
    "            y.append(tmp_y)\n",
    "    \n",
    "    # 此时shape(X) = (4320/18*15, 9) = (3600, 9)\n",
    "    X = np.array(x, dtype=float)\n",
    "    Y = np.array(y, dtype=float)\n",
    "\n",
    "    return X,Y"
   ]
  },
  {
   "cell_type": "code",
   "execution_count": 3,
   "metadata": {},
   "outputs": [],
   "source": [
    "def build_model(train_x, train_y, epochs):\n",
    "    \"\"\"建立模型\"\"\"\n",
    "    bias = 0 # 偏置项\n",
    "    weights = np.ones(9) # 权重\n",
    "    bg_sum = 0 # 偏置项的梯度平方和\n",
    "    wg_sum = np.zeros(9) # 权重的梯度平方和\n",
    "    lr = 1 # 学习率\n",
    "    reg_rate = 0.001 # 正则项系数\n",
    "    \n",
    "    for epoch in range(epochs):\n",
    "        b_grad = 0\n",
    "        w_grad = np.zeros(9)\n",
    "        for i in range(3200):\n",
    "            # 由于只需要观测值表为pm2.5的数据，所以第二维为9\n",
    "            b_grad += (train_y[i] - weights.dot(train_x[i, :]) - bias) * (-1)\n",
    "            for j in range(9):\n",
    "                w_grad[j] += (train_y[i] - weights.dot(train_x[i, :]) - bias) * (-train_x[i, j])\n",
    "            \n",
    "        # 将梯度求平均\n",
    "        b_grad /= 3200\n",
    "        w_grad /= 3200\n",
    "        \n",
    "        # 加上正则项\n",
    "        for i in range(9):\n",
    "            w_grad[i] += reg_rate * weights[i]\n",
    "            \n",
    "        # adgrad\n",
    "        bg_sum += b_grad**2\n",
    "        wg_sum += w_grad**2\n",
    "        \n",
    "        # 更新权重和偏置项\n",
    "        bias -= (lr / bg_sum**0.5) * b_grad\n",
    "        weights -= (lr / wg_sum**0.5) * w_grad\n",
    "               \n",
    "        \n",
    "        # 每训练200轮，输出一次Loss\n",
    "        if epoch % 200 == 0:\n",
    "            loss = 0\n",
    "            for i in range(3200):\n",
    "                loss += (train_y[i] - weights.dot(train_x[i, :]) - bias)**2\n",
    "            print('after {} epochs, the loss on train data is:'.format(epoch), loss/3200)\n",
    "    \n",
    "    return weights, bias"
   ]
  },
  {
   "cell_type": "code",
   "execution_count": 4,
   "metadata": {},
   "outputs": [],
   "source": [
    "def val_model(val_x, val_y, weights, bias):\n",
    "    \"\"\"验证模型\"\"\"\n",
    "    loss = 0\n",
    "    for i in range(400):\n",
    "        loss += (val_y[i] - weights.dot(val_x[i, :]) - bias)**2\n",
    "    return loss / 400"
   ]
  },
  {
   "cell_type": "code",
   "execution_count": 5,
   "metadata": {},
   "outputs": [],
   "source": [
    "def test_data_process(data):\n",
    "    \"\"\"测试集预处理\"\"\"\n",
    "    data = data.iloc[:, 2: ]\n",
    "    # 将空数据填充为0\n",
    "    data = data.replace(['NR'], [0.0])\n",
    "    array = np.array(data, dtype=float)\n",
    "    \n",
    "    x = []\n",
    "    \n",
    "    for i in range(0, 4320, 18):\n",
    "        tmp_x = array[i+9, :]\n",
    "        x.append(tmp_x)\n",
    "    \n",
    "    X = np.array(x, dtype=float)\n",
    "    return X"
   ]
  },
  {
   "cell_type": "code",
   "execution_count": 6,
   "metadata": {},
   "outputs": [],
   "source": [
    "def test(test_x, weights, bias):\n",
    "    \"\"\"测试模型\"\"\"\n",
    "    y = np.dot(test_x, weights) \n",
    "    return y"
   ]
  },
  {
   "cell_type": "code",
   "execution_count": 7,
   "metadata": {},
   "outputs": [],
   "source": [
    "def main():\n",
    "    train_data = pd.read_csv('../data/train.csv', encoding='gb18030')\n",
    "    X, Y = data_process(train_data)\n",
    "    \n",
    "    # 划分训练集和验证集\n",
    "    train_x, train_y = X[0: 3200], Y[0: 3200]\n",
    "    val_x, val_y = X[3200: 3600], Y[3200: 3600]\n",
    "    \n",
    "    # 训练模型\n",
    "    epoch = 2000\n",
    "    w, b = build_model(train_x, train_y, epoch)\n",
    "\n",
    "    # 验证模型\n",
    "    loss = val_model(val_x, val_y, w, b)\n",
    "    print('The loss on val data is: ', loss)\n",
    "    \n",
    "    # 测试集预处理\n",
    "    test_data = pd.read_csv('../data/test.csv', header=None, encoding='gb18030')\n",
    "    test_x = test_data_process(test_data)\n",
    "    test_y = test(test_x, w, b)\n",
    "    \n",
    "    # 保存为结果文件\n",
    "    with open('result.csv', mode='w', newline='') as result:\n",
    "        csv_writer = csv.writer(result)\n",
    "        header = ['id', 'value']\n",
    "        csv_writer.writerow(header)\n",
    "        for i in range(240):\n",
    "            row = ['id_' + str(i), test_y[i]]\n",
    "            csv_writer.writerow(row)"
   ]
  },
  {
   "cell_type": "code",
   "execution_count": null,
   "metadata": {},
   "outputs": [
    {
     "name": "stdout",
     "output_type": "stream",
     "text": [
      "after 0 epochs, the loss on train data is: 955.3009375\n",
      "after 200 epochs, the loss on train data is: 49.86823677027294\n",
      "after 400 epochs, the loss on train data is: 46.20101423801225\n",
      "after 600 epochs, the loss on train data is: 44.88913061600436\n",
      "after 800 epochs, the loss on train data is: 44.26903588227097\n",
      "after 1000 epochs, the loss on train data is: 43.95010919056686\n",
      "after 1200 epochs, the loss on train data is: 43.78092633274225\n",
      "after 1400 epochs, the loss on train data is: 43.68982565130423\n",
      "after 1600 epochs, the loss on train data is: 43.6403143032977\n"
     ]
    }
   ],
   "source": [
    "if __name__ == '__main__':\n",
    "    main()"
   ]
  },
  {
   "cell_type": "code",
   "execution_count": null,
   "metadata": {},
   "outputs": [],
   "source": []
  }
 ],
 "metadata": {
  "kernelspec": {
   "display_name": "Python 3",
   "language": "python",
   "name": "python3"
  },
  "language_info": {
   "codemirror_mode": {
    "name": "ipython",
    "version": 3
   },
   "file_extension": ".py",
   "mimetype": "text/x-python",
   "name": "python",
   "nbconvert_exporter": "python",
   "pygments_lexer": "ipython3",
   "version": "3.7.9"
  }
 },
 "nbformat": 4,
 "nbformat_minor": 4
}
