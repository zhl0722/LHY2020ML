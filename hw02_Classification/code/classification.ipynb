{
 "cells": [
  {
   "cell_type": "code",
   "execution_count": 1,
   "metadata": {},
   "outputs": [],
   "source": [
    "import numpy as np\n",
    "import pandas as pd\n",
    "import csv\n",
    "import math\n",
    "import matplotlib.pyplot as plt"
   ]
  },
  {
   "cell_type": "code",
   "execution_count": 2,
   "metadata": {},
   "outputs": [],
   "source": [
    "def data_process(train_x, train_y, test_x):\n",
    "    \"\"\"数据预处理\"\"\"\n",
    "    x_train = np.array(train_x.iloc[:, 1:])\n",
    "    y_train = np.array(train_y.iloc[:, 1:])\n",
    "    x_test = np.array(test_x.iloc[:, 1:])\n",
    "    return x_train, y_train, x_test"
   ]
  },
  {
   "cell_type": "code",
   "execution_count": 3,
   "metadata": {},
   "outputs": [],
   "source": [
    "def normalize(X, train=True, X_mean=None, X_std=None):\n",
    "    \"\"\"数据标准化\"\"\"\n",
    "    if train:\n",
    "        # 如果是训练集，需要计算平均值和标准差，如果不是，直接使用计算好的\n",
    "        X_mean = np.mean(X, axis=0).reshape(1, -1)\n",
    "        X_std = np.std(X, axis=0).reshape(1, -1)\n",
    "        \n",
    "    X = (X - X_mean) / (X_std + 1e-8) # 防止除0\n",
    "    return X, X_mean, X_std"
   ]
  },
  {
   "cell_type": "code",
   "execution_count": 4,
   "metadata": {},
   "outputs": [],
   "source": [
    "def split_data(x_train, y_train, radio):\n",
    "    \"\"\"按照radio划分训练集和验证集\"\"\"\n",
    "    size = len(x_train)\n",
    "    X_train = x_train[: math.floor(radio * size), :]\n",
    "    Y_train = y_train[: math.floor(radio * size), :]\n",
    "    X_val = x_train[math.floor(radio * size): , :]\n",
    "    Y_val = y_train[math.floor(radio * size): , :]\n",
    "    return X_train, Y_train, X_val, Y_val"
   ]
  },
  {
   "cell_type": "code",
   "execution_count": 5,
   "metadata": {},
   "outputs": [],
   "source": [
    "def shuffle(x, y):\n",
    "    \"\"\"打乱数据\"\"\"\n",
    "    random_list = np.arange(len(x))\n",
    "    np.random.shuffle(random_list)\n",
    "    return x[random_list], y[random_list]\n",
    "\n",
    "def sigmoid(z):\n",
    "    \"\"\"sigmoid函数\"\"\"\n",
    "    # 避免溢出，如果sigmoid函数的最小值比1e-8小，只会输出1e-8；而比1 - (1e-8)大，则只输出1 - (1e-8)\n",
    "    return np.clip(1 / (1.0 + np.exp(-z)), 1e-8, 1-(1e-8))\n",
    "    \n",
    "\n",
    "def f(x, w, b):\n",
    "    \"\"\"返回y：即概率值\"\"\"\n",
    "    return sigmoid(np.dot(x, w) + b)\n",
    "\n",
    "def gradient(x, y, w, b):\n",
    "    \"\"\"计算梯度\"\"\"\n",
    "    y_pred = f(x, w, b)\n",
    "    w_grad = np.dot(x.T, y_pred - y)\n",
    "    b_grad = np.sum(y_pred - y)\n",
    "    return w_grad, b_grad\n",
    "\n",
    "def cal_accuracy(y_pred, y):\n",
    "    \"\"\"计算正确率\"\"\"\n",
    "    acc = 1 - np.mean(np.abs(y_pred - y))\n",
    "    return acc\n",
    "\n",
    "def cal_cross_entropy(y_pred , y):\n",
    "    \"\"\"计算交叉熵\"\"\"\n",
    "    loss = -np.dot(y.reshape(1, -1), np.log(y_pred)) - np.dot((1 - y).reshape(1, -1), np.log(1 - y_pred))\n",
    "    return loss[0][0]"
   ]
  },
  {
   "cell_type": "code",
   "execution_count": 6,
   "metadata": {},
   "outputs": [],
   "source": [
    "def train_model(x_train, y_train, x_val, y_val):\n",
    "    \"\"\"建立模型\"\"\"\n",
    "    w = np.ones((x_train.shape[1], 1)) # weight\n",
    "    b = 1 # bias\n",
    "    epochs = 30 # 迭代次数\n",
    "    batch_size = 15 # 每个批次的样本数\n",
    "    lr = 0.05 # 学习率\n",
    "    \n",
    "    train_loss = [] # 训练集损失\n",
    "    val_loss = []\n",
    "    train_acc = []# 训练集正确率\n",
    "    val_acc = []\n",
    "    \n",
    "    step = 1\n",
    "    for epoch in range(epochs):\n",
    "        x_train, y_train = shuffle(x_train, y_train)\n",
    "        for i in range(int(len(x_train / batch_size))):\n",
    "            x = x_train[i*batch_size: (i+1)*batch_size, :]\n",
    "            y = y_train[i*batch_size: (i+1)*batch_size, :]\n",
    "            \n",
    "            w_grad, b_grad = gradient(x, y, w, b)\n",
    "            \n",
    "            w -= (lr / step**0.5) * w_grad\n",
    "            b -= (lr / step**0.5) * b_grad\n",
    "            \n",
    "            step += 1\n",
    "            \n",
    "        \n",
    "        y_train_pred = f(x_train, w, b)\n",
    "        train_acc.append(cal_accuracy(np.round(y_train_pred), y_train))\n",
    "        train_loss.append(cal_cross_entropy(y_train_pred, y_train) / len(x_train))\n",
    "        \n",
    "        y_val_pred = f(x_val, w, b)\n",
    "        val_acc.append(cal_accuracy(np.round(y_val_pred), y_val))\n",
    "        val_loss.append(cal_cross_entropy(y_val_pred, y_val) / len(x_val))\n",
    "    \n",
    "    \n",
    "    print('训练集正确率：' + str(train_acc[-1]))\n",
    "    print('训练集误差：' + str(train_loss[-1]))\n",
    "    print('验证集正确率：' + str(val_acc[-1]))\n",
    "    print('验证集误差：' + str(val_loss[-1]))\n",
    "    \n",
    "    return w, b, train_acc, train_loss, val_acc, val_loss"
   ]
  },
  {
   "cell_type": "code",
   "execution_count": 7,
   "metadata": {},
   "outputs": [],
   "source": [
    "def plot_acc_loss(train_acc, train_loss, val_acc, val_loss):\n",
    "    plt.plot(train_loss)\n",
    "    plt.plot(val_loss)\n",
    "    plt.title('Loss')\n",
    "    plt.legend(['train', 'val'])\n",
    "    plt.show()\n",
    "    \n",
    "    plt.plot(train_acc)\n",
    "    plt.plot(val_acc)\n",
    "    plt.title('Acc')\n",
    "    plt.legend(['train', 'val'])\n",
    "    plt.show()    "
   ]
  },
  {
   "cell_type": "code",
   "execution_count": 8,
   "metadata": {},
   "outputs": [],
   "source": [
    "def test_model(x_test, w, b):\n",
    "    \"\"\"测试模型\"\"\"\n",
    "    y_test = f(x_test, w, b)\n",
    "    y_test = np.round(y_test)\n",
    "    # 保存为结果文件\n",
    "    with open('result.csv', mode='w', newline='') as result:\n",
    "        csv_writer = csv.writer(result)\n",
    "        header = ['id', 'label']\n",
    "        csv_writer.writerow(header)\n",
    "        for i in range(len(y_test)):\n",
    "            row = [str(i), int(y_test[i][0])]\n",
    "            csv_writer.writerow(row)"
   ]
  },
  {
   "cell_type": "code",
   "execution_count": 9,
   "metadata": {},
   "outputs": [],
   "source": [
    "def main():\n",
    "    train_X = pd.read_csv('../data/X_train.csv')\n",
    "    train_Y = pd.read_csv('../data/Y_train.csv')\n",
    "    test_X = pd.read_csv('../data/X_test.csv')\n",
    "    train_x, train_y, test_x = data_process(train_X, train_Y, test_X)\n",
    "    train_x, x_mean, x_std = normalize(train_x, True)\n",
    "    test_x, x_mean, x_std = normalize(test_x, False, x_mean, x_std)\n",
    "    x_train, y_train, x_val, y_val = split_data(train_x, train_y, 0.9)\n",
    "    \n",
    "    w, b, train_acc, train_loss, val_acc, val_loss = train_model(x_train, y_train, x_val, y_val)\n",
    "    plot_acc_loss(train_acc, train_loss, val_acc, val_loss)\n",
    "    test_model(test_x, w, b)"
   ]
  },
  {
   "cell_type": "code",
   "execution_count": 10,
   "metadata": {},
   "outputs": [
    {
     "name": "stdout",
     "output_type": "stream",
     "text": [
      "训练集正确率：0.8849682572189228\n",
      "训练集误差：0.27261461640898454\n",
      "验证集正确率：0.8750460744563214\n",
      "验证集误差：0.29612129245432706\n"
     ]
    },
    {
     "data": {
      "image/png": "[encoded data removed]",
      "text/plain": [
       "<Figure size 432x288 with 1 Axes>"
      ]
     },
     "metadata": {
      "needs_background": "light"
     },
     "output_type": "display_data"
    },
    {
     "data": {
      "image/png": "[encoded data removed]",
      "text/plain": [
       "<Figure size 432x288 with 1 Axes>"
      ]
     },
     "metadata": {
      "needs_background": "light"
     },
     "output_type": "display_data"
    }
   ],
   "source": [
    "if __name__ == '__main__':\n",
    "    main()"
   ]
  }
 ],
 "metadata": {
  "kernelspec": {
   "display_name": "Python 3",
   "language": "python",
   "name": "python3"
  },
  "language_info": {
   "codemirror_mode": {
    "name": "ipython",
    "version": 3
   },
   "file_extension": ".py",
   "mimetype": "text/x-python",
   "name": "python",
   "nbconvert_exporter": "python",
   "pygments_lexer": "ipython3",
   "version": "3.7.9"
  }
 },
 "nbformat": 4,
 "nbformat_minor": 4
}
